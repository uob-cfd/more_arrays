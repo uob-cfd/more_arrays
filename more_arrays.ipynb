{
 "cells": [
  {
   "cell_type": "markdown",
   "id": "6166bf7d",
   "metadata": {},
   "source": [
    "# More arrays\n"
   ]
  },
  {
   "cell_type": "markdown",
   "id": "0441f0b7",
   "metadata": {},
   "source": [
    "## About this exercise\n",
    "\n",
    "This exercise is an edited version of a homework from [the Berkeley data\n",
    "science course](https://github.com/data-8/data8assets) with thanks.  If you\n",
    "make a new version of this original, please note that this exercise has a\n",
    "[CC-BY-NC license](http://creativecommons.org/licenses/by-nc/4.0/); remember to\n",
    "give attribution to the original authors from the repository above.\n"
   ]
  },
  {
   "cell_type": "markdown",
   "id": "661c98a2",
   "metadata": {},
   "source": [
    "## Getting started\n",
    "\n",
    "Please complete this notebook by filling in the cells provided. Before you begin, execute the following cell to load the provided tests. Each time you start your server, you will need to execute this cell again to load the tests."
   ]
  },
  {
   "cell_type": "code",
   "execution_count": null,
   "id": "177643bf",
   "metadata": {},
   "outputs": [],
   "source": [
    "# Don't change this cell; just run it.\n",
    "import numpy as np  # The array library.\n",
    "import pandas as pd  # A library for working with data tables.\n",
    "\n",
    "# The OKpy testing system.\n",
    "from client.api.notebook import Notebook\n",
    "ok = Notebook('more_arrays.ok')"
   ]
  },
  {
   "cell_type": "markdown",
   "id": "5e433967",
   "metadata": {},
   "source": [
    "**Important**: The `ok` tests don't always tell you that your answer is\n",
    "correct. More often, they help catch careless mistakes. It's up to you to\n",
    "ensure that your answer is correct. If you're not sure, ask someone (not for\n",
    "the answer, but for some guidance about your approach).\n",
    "\n",
    "**Important as well**: Don't forget the rules on working together.  See the\n",
    "class pages for detail.\n",
    "\n",
    "Once you're finished, select \"Save and Checkpoint\" in the File menu.\n"
   ]
  },
  {
   "cell_type": "markdown",
   "id": "2b017f53",
   "metadata": {},
   "source": [
    "## Experiments, checks\n",
    "\n",
    "You will often benefit from making extra cells in your notebook to check what\n",
    "the current variables hold and to experiment with code.  You can insert cells\n",
    "with the +code button in deepnote, but please consider learning the shortcuts.\n",
    "Cntl-J or command-J (mac) should add a code cell below the current cell and Cntl-K or command-K should add a code cell above the current cell.\n",
    "\n",
    "When you do make extra cells, please don't forget to check the notebook again\n",
    "when you have finished, by saving your work (see below), and running \"Restart\n",
    "and Run All\" from the \"Kernel\" menu.  Make sure you don't get any errors when\n",
    "you do this.  If necessary, edit or delete any experimentation cells.  We run\n",
    "this check when marking your notebook, and we will subtract marks if we have to\n",
    "fix errors in order to run the notebook through to the end.\n"
   ]
  },
  {
   "cell_type": "markdown",
   "id": "f2cea92e",
   "metadata": {},
   "source": [
    "## Creating Arrays\n",
    "\n",
    "**Question 1.** Make an array called `weird_numbers` containing the following numbers (in the given order):\n",
    "\n",
    "1. -2\n",
    "2. the sine of 1.2\n",
    "3. 3\n",
    "4. 5 to the power of the cosine of 1.2\n",
    "\n",
    "*Hint:* `sin` and `cos` are functions in the `np` module."
   ]
  },
  {
   "cell_type": "code",
   "execution_count": null,
   "id": "548211fb",
   "metadata": {},
   "outputs": [],
   "source": [
    "weird_numbers = ...\n",
    "weird_numbers"
   ]
  },
  {
   "cell_type": "code",
   "execution_count": null,
   "id": "2a1a0aed",
   "metadata": {},
   "outputs": [],
   "source": [
    "_ = ok.grade('q2_1')"
   ]
  },
  {
   "cell_type": "markdown",
   "id": "9cefcb38",
   "metadata": {},
   "source": [
    "**Question 2.** Make an array called `book_title_words` containing the following three strings: \"Eats\", \"Shoots\", and \"and Leaves\"."
   ]
  },
  {
   "cell_type": "code",
   "execution_count": null,
   "id": "9796da75",
   "metadata": {},
   "outputs": [],
   "source": [
    "book_title_words = ...\n",
    "book_title_words"
   ]
  },
  {
   "cell_type": "code",
   "execution_count": null,
   "id": "ed8e9f37",
   "metadata": {},
   "outputs": [],
   "source": [
    "_ = ok.grade('q2_2')"
   ]
  },
  {
   "cell_type": "markdown",
   "id": "eacd38d6",
   "metadata": {},
   "source": [
    "Strings have a method called `join`.  `join` takes one argument, an array of\n",
    "strings.  It returns a single string.  Specifically, the value of\n",
    "`a_string.join(an_array)` is a single string that's the\n",
    "[concatenation](https://en.wikipedia.org/wiki/Concatenation) (\"putting\n",
    "together\") of all the strings in `an_array`, **except** `a_string` is inserted\n",
    "in between each string\n",
    "\n",
    "For example, look at this result of doing `join` on `book_title_words` with the\n",
    "join string `foo`':"
   ]
  },
  {
   "cell_type": "code",
   "execution_count": null,
   "id": "27eb6417",
   "metadata": {},
   "outputs": [],
   "source": [
    "\"foo\".join(book_title_words)"
   ]
  },
  {
   "cell_type": "markdown",
   "id": "a866b5eb",
   "metadata": {},
   "source": [
    "**Question 3.** Use the array `book_title_words` and the method `join` to make two strings:\n",
    "\n",
    "1. \"Eats Shoots and Leaves\" (call this one `without_commas`)\n",
    "2. \"Eats, Shoots, and Leaves\" (call this one `with_commas`)"
   ]
  },
  {
   "cell_type": "code",
   "execution_count": null,
   "id": "06043f0f",
   "metadata": {},
   "outputs": [],
   "source": [
    "without_commas = ...\n",
    "with_commas = ...\n",
    "# These lines are just to print out your answers.\n",
    "print(without_commas)\n",
    "print(with_commas)"
   ]
  },
  {
   "cell_type": "code",
   "execution_count": null,
   "id": "299cf281",
   "metadata": {},
   "outputs": [],
   "source": [
    "_ = ok.grade('q2_3')"
   ]
  },
  {
   "cell_type": "markdown",
   "id": "9185d15d",
   "metadata": {},
   "source": [
    "## 3. Indexing Arrays"
   ]
  },
  {
   "cell_type": "markdown",
   "id": "5560a1e1",
   "metadata": {},
   "source": [
    "These exercises give you practice accessing individual elements of arrays.  In\n",
    "Python (and in many programming languages), elements are accessed by *index*,\n",
    "so the first element is the element at index 0."
   ]
  },
  {
   "cell_type": "markdown",
   "id": "ad3f9499",
   "metadata": {},
   "source": [
    "**Question 1.** The cell below creates an array of some numbers.  Set `third_element` to the third element of `some_numbers`."
   ]
  },
  {
   "cell_type": "code",
   "execution_count": null,
   "id": "f101b998",
   "metadata": {},
   "outputs": [],
   "source": [
    "some_numbers = np.array([-1, -3, -6, -10, -15])\n",
    "\n",
    "third_element = ...\n",
    "third_element"
   ]
  },
  {
   "cell_type": "code",
   "execution_count": null,
   "id": "3a6d2775",
   "metadata": {},
   "outputs": [],
   "source": [
    "_ = ok.grade('q3_1')"
   ]
  },
  {
   "cell_type": "markdown",
   "id": "74246143",
   "metadata": {},
   "source": [
    "**Question 2.** The next cell creates a table that displays some information\n",
    "about the elements of `some_numbers` and their order.  Run the cell to see the\n",
    "partially-completed table, then fill in the missing information in the cell\n",
    "(the strings that are currently \"???\") to complete the table.\n",
    "\n",
    "Don't worry about the code to create the \"DataFrame\"; we will cover that\n",
    "later."
   ]
  },
  {
   "cell_type": "code",
   "execution_count": null,
   "id": "01caea93",
   "metadata": {},
   "outputs": [],
   "source": [
    "#- Replace in ??? placeholders in the next lines.\n",
    "names = np.array([\"first\", \"second\", \"???\", \"???\", \"fifth\"])\n",
    "index = np.array([\"???\", \"1\", \"2\", \"???\", \"4\"])\n",
    "# Don't worry about this code below.\n",
    "elements_of_some_numbers = pd.DataFrame()\n",
    "elements_of_some_numbers['English name for position'] = names\n",
    "elements_of_some_numbers['Index'] = index\n",
    "elements_of_some_numbers['Element'] = some_numbers\n",
    "elements_of_some_numbers"
   ]
  },
  {
   "cell_type": "code",
   "execution_count": null,
   "id": "3d3ab056",
   "metadata": {},
   "outputs": [],
   "source": [
    "_ = ok.grade('q3_2')"
   ]
  },
  {
   "cell_type": "markdown",
   "id": "e0acb131",
   "metadata": {},
   "source": [
    "**Question 3.** You'll sometimes want to find the *last* element of an array.\n",
    "Suppose an array has 142 elements.  What is the index of its last element?"
   ]
  },
  {
   "cell_type": "code",
   "execution_count": null,
   "id": "34f7a812",
   "metadata": {},
   "outputs": [],
   "source": [
    "index_of_last_element = ..."
   ]
  },
  {
   "cell_type": "code",
   "execution_count": null,
   "id": "7342ffaa",
   "metadata": {},
   "outputs": [],
   "source": [
    "_ = ok.grade('q3_3')"
   ]
  },
  {
   "cell_type": "markdown",
   "id": "f7621b51",
   "metadata": {},
   "source": [
    "More often, you don't know the number of elements in an array, its *length*.\n",
    "(For example, it might be a large dataset you found on the Internet.)  The\n",
    "function `len` takes a single argument, an array, and returns the `len`gth of\n",
    "that array (an integer).\n",
    "\n",
    "**Question 4.** The cell below loads an array called `president_birth_years`.\n",
    "The last element in that array is the most recent birth year of any deceased\n",
    "president. Assign that year to `most_recent_birth_year`.  Again, don't worry\n",
    "about the code to read the data."
   ]
  },
  {
   "cell_type": "code",
   "execution_count": null,
   "id": "9461bb5d",
   "metadata": {},
   "outputs": [],
   "source": [
    "# Read the presidents data from a data file.\n",
    "presidents_df = pd.read_csv(\"president_births.csv\")\n",
    "# Get the birth years column as an array.\n",
    "president_birth_years = np.array(presidents_df['Birth Year'])\n",
    "\n",
    "most_recent_birth_year = ...\n",
    "most_recent_birth_year"
   ]
  },
  {
   "cell_type": "code",
   "execution_count": null,
   "id": "48f06dc3",
   "metadata": {},
   "outputs": [],
   "source": [
    "_ = ok.grade('q3_4')"
   ]
  },
  {
   "cell_type": "markdown",
   "id": "3a6c4649",
   "metadata": {},
   "source": [
    "## 4. Basic Array Arithmetic\n"
   ]
  },
  {
   "cell_type": "markdown",
   "id": "3cee92e1",
   "metadata": {},
   "source": [
    "**Question 1.** Multiply the numbers 42, 4224, 424224, and -250 by 157.  For this question, **don't** use arrays."
   ]
  },
  {
   "cell_type": "code",
   "execution_count": null,
   "id": "96a2ebc8",
   "metadata": {},
   "outputs": [],
   "source": [
    "first_product = ...\n",
    "second_product = ...\n",
    "third_product = ...\n",
    "fourth_product = ...\n",
    "print(first_product, second_product, third_product, fourth_product)"
   ]
  },
  {
   "cell_type": "code",
   "execution_count": null,
   "id": "ec370067",
   "metadata": {},
   "outputs": [],
   "source": [
    "_ = ok.grade('q4_1')"
   ]
  },
  {
   "cell_type": "markdown",
   "id": "875e119a",
   "metadata": {},
   "source": [
    "**Question 2.** Now, do the same calculation, but using an array called\n",
    "`numbers` and only a single multiplication (`*`) operator.  Store the 4\n",
    "results in an array named `products`."
   ]
  },
  {
   "cell_type": "code",
   "execution_count": null,
   "id": "3e1b8ee2",
   "metadata": {},
   "outputs": [],
   "source": [
    "numbers = ...\n",
    "products = ...\n",
    "products"
   ]
  },
  {
   "cell_type": "code",
   "execution_count": null,
   "id": "73014bfa",
   "metadata": {},
   "outputs": [],
   "source": [
    "_ = ok.grade('q4_2')"
   ]
  },
  {
   "cell_type": "markdown",
   "id": "eb1f0e04",
   "metadata": {},
   "source": [
    "**Question 3.** Oops, we made a typo!  Instead of 157, we wanted to multiply\n",
    "each number by 1577.  Compute the fixed products in the cell below using array\n",
    "arithmetic.  Notice that your job is really easy if you previously defined an\n",
    "array containing the 4 numbers."
   ]
  },
  {
   "cell_type": "code",
   "execution_count": null,
   "id": "0b2e95bc",
   "metadata": {},
   "outputs": [],
   "source": [
    "fixed_products = ...\n",
    "fixed_products"
   ]
  },
  {
   "cell_type": "code",
   "execution_count": null,
   "id": "fd648c4d",
   "metadata": {},
   "outputs": [],
   "source": [
    "_ = ok.grade('q4_3')"
   ]
  },
  {
   "cell_type": "markdown",
   "id": "8b580d2f",
   "metadata": {},
   "source": [
    "**Question 4.** We've loaded an array of temperatures in the next cell.  Each\n",
    "number is the highest temperature observed on a day at a climate observation\n",
    "station, mostly from the US.  Since they're from the US government agency\n",
    "[NOAA](noaa.gov), all the temperatures are in Fahrenheit.  Convert them all to\n",
    "Celsius by first subtracting 32 from them, then multiplying the results by\n",
    "$\\frac{5}{9}$. Round each result to the nearest integer using the `np.round`\n",
    "function."
   ]
  },
  {
   "cell_type": "code",
   "execution_count": null,
   "id": "701e0cd7",
   "metadata": {},
   "outputs": [],
   "source": [
    "#- Don't worry about this code to read the data.\n",
    "max_temperatures = np.array(pd.read_csv(\"temperatures.csv\")[\"Daily Max Temperature\"])\n",
    "celsius_max_temperatures = ...\n",
    "celsius_max_temperatures"
   ]
  },
  {
   "cell_type": "code",
   "execution_count": null,
   "id": "d1e21a1c",
   "metadata": {},
   "outputs": [],
   "source": [
    "_ = ok.grade('q4_4')"
   ]
  },
  {
   "cell_type": "markdown",
   "id": "3a2bb98a",
   "metadata": {},
   "source": [
    "**Question 5.** The cell below loads all the *lowest* temperatures from each\n",
    "day (in Fahrenheit).  Compute the size of the daily temperature range for each\n",
    "day.  That is, compute the difference between each daily maximum temperature\n",
    "and the corresponding daily minimum temperature.\n",
    "\n",
    "**Give your answer in Celsius!**.\n",
    "\n",
    "You should round your minimum celsius values *before* subtracting."
   ]
  },
  {
   "cell_type": "code",
   "execution_count": null,
   "id": "40c491ea",
   "metadata": {},
   "outputs": [],
   "source": [
    "#- Read in the data array for min temperatures\n",
    "min_temperatures = np.array(pd.read_csv(\"temperatures.csv\")[\"Daily Min Temperature\"])\n",
    "\n",
    "celsius_temperature_ranges = ...\n",
    "celsius_temperature_ranges"
   ]
  },
  {
   "cell_type": "code",
   "execution_count": null,
   "id": "2a2326c5",
   "metadata": {},
   "outputs": [],
   "source": [
    "_ = ok.grade('q4_5')"
   ]
  },
  {
   "cell_type": "markdown",
   "id": "0a13f8a6",
   "metadata": {},
   "source": [
    "## 5. Old Faithful"
   ]
  },
  {
   "cell_type": "markdown",
   "id": "26e1ee1e",
   "metadata": {},
   "source": [
    "Old Faithful is a geyser in Yellowstone that erupts every 44 to 125 minutes\n",
    "(according to [Wikipedia](https://en.wikipedia.org/wiki/Old_Faithful)). People\n",
    "are [often told that the geyser erupts every\n",
    "hour](http://yellowstone.net/geysers/old-faithful/), but in fact the waiting\n",
    "time between eruptions is more variable. Let's take a look."
   ]
  },
  {
   "cell_type": "markdown",
   "id": "b84962e4",
   "metadata": {},
   "source": [
    "**Question 1.** The first line below assigns `waiting_times` to an array of 272\n",
    "consecutive waiting times between eruptions, taken from a classic 1938\n",
    "dataset. Assign the names `shortest`, `longest`, and `average` so that the\n",
    "`print` statement is correct.\n",
    "\n",
    "*Hint*: check the various array functions in the [Arrays page of the\n",
    "textbook](https://uob-ds.github.io/cfd2021/data-types/Arrays)."
   ]
  },
  {
   "cell_type": "code",
   "execution_count": null,
   "id": "7acb5ad5",
   "metadata": {},
   "outputs": [],
   "source": [
    "# Load the data into an array.\n",
    "waiting_times = np.array(pd.read_csv('old_faithful.csv')['waiting'])\n",
    "shortest = ...\n",
    "longest = ...\n",
    "average = ...\n",
    "print(\"Old Faithful erupts every\", shortest, \"to\", longest, \"minutes and every\", average, \"minutes on average.\")"
   ]
  },
  {
   "cell_type": "code",
   "execution_count": null,
   "id": "d913a684",
   "metadata": {},
   "outputs": [],
   "source": [
    "_ = ok.grade('q5_1')"
   ]
  },
  {
   "cell_type": "markdown",
   "id": "ab785c4a",
   "metadata": {},
   "source": [
    "**Question 2.** Assign `biggest_decrease` to the biggest decrease in waiting\n",
    "time between two consecutive eruptions. For example, the third eruption\n",
    "occurred after 74 minutes and the fourth after 62 minutes, so the decrease in\n",
    "waiting time was 74 - 62 = 12 minutes.\n",
    "\n",
    "*Hint*: check the various array functions in the [Arrays page of the\n",
    "textbook](https://uob-ds.github.io/cfd2021/data-types/Arrays).\n",
    "\n",
    "*Hint*: think about how to distinguish an increase from a decrease."
   ]
  },
  {
   "cell_type": "code",
   "execution_count": null,
   "id": "3c529770",
   "metadata": {},
   "outputs": [],
   "source": [
    "biggest_decrease = ...\n",
    "biggest_decrease"
   ]
  },
  {
   "cell_type": "code",
   "execution_count": null,
   "id": "0bcaec13",
   "metadata": {},
   "outputs": [],
   "source": [
    "_ = ok.grade('q5_2')"
   ]
  },
  {
   "cell_type": "markdown",
   "id": "8194913f",
   "metadata": {},
   "source": [
    "**Question 3.** If you expected Old Faithful to erupt every hour, you would\n",
    "expect to wait a total of `60 * k` minutes to see `k` eruptions. Set\n",
    "`difference_from_expected` to an array with 272 elements, where the element at\n",
    "index `i` is the absolute difference between the expected and actual total\n",
    "amount of waiting time to see the first `i+1` eruptions.\n",
    "\n",
    "For example, since the first three waiting times are 79, 54, and 74, the total\n",
    "waiting time for 3 eruptions is 79 + 54 + 74 = 207. The expected waiting time\n",
    "for 3 eruptions is 60 * 3 = 180. Therefore, `difference_from_expected.item(2)`\n",
    "should be $|207 - 180| = 27$.  Notice that that bars either side of the numbers\n",
    "in $|207 - 180|$ mean the *absolute difference* of that subtraction, so this is also true: $|180 - 207| = 27$.\n",
    "\n",
    "*Hint* - you may well want to compare a cumulative sum to a range.\n",
    "\n",
    "*Hint* - first make an array `expected` that has the expected waiting times.\n",
    "\n",
    "*Hint* - think about what the first value in `expected` will be.\n",
    "\n",
    "*Hint* - check the [array function page](https://uob-ds.github.io/cfd2021/data-types/Arrays)\n",
    "again for useful functions to help calculate the cumulative sum."
   ]
  },
  {
   "cell_type": "code",
   "execution_count": null,
   "id": "b9748bc4",
   "metadata": {},
   "outputs": [],
   "source": [
    "expected = ...\n",
    "difference_from_expected = ...\n",
    "difference_from_expected"
   ]
  },
  {
   "cell_type": "code",
   "execution_count": null,
   "id": "52272f45",
   "metadata": {},
   "outputs": [],
   "source": [
    "_ = ok.grade('q5_3')"
   ]
  },
  {
   "cell_type": "markdown",
   "id": "73c05830",
   "metadata": {},
   "source": [
    "**Question 4.** If instead you guess that each waiting time will be the same as\n",
    "the previous waiting time, how many minutes would your guess differ from the\n",
    "actual time, averaging over every wait time except the first one.\n",
    "\n",
    "For example, say the first waiting time was 79 minutes.  That becomes your\n",
    "guess for the current (second) waiting time.  The current waiting time turns\n",
    "out to be 54 minutes.  Your guess is out by $|79 - 54| = 25$ minutes. Remember\n",
    "that the vertical bars in $|79 - 54|$ mean the *absolute difference* of the\n",
    "subtraction. Your guess for the next waiting time is now 54 minutes.  Say the\n",
    "actual wait is 74 minutes. This time your guess is out by $|54 - 74| = 20$\n",
    "minutes.  The average number of minutes you were out, across your two guesses,\n",
    "is $\\frac{25 + 20}{2} = 22.5$ minutes."
   ]
  },
  {
   "cell_type": "code",
   "execution_count": null,
   "id": "905edb73",
   "metadata": {},
   "outputs": [],
   "source": [
    "average_error = ...\n",
    "average_error"
   ]
  },
  {
   "cell_type": "code",
   "execution_count": null,
   "id": "7c9f3f0c",
   "metadata": {},
   "outputs": [],
   "source": [
    "_ = ok.grade('q5_4')"
   ]
  },
  {
   "cell_type": "markdown",
   "id": "1e754004",
   "metadata": {},
   "source": [
    "## And finally"
   ]
  },
  {
   "cell_type": "markdown",
   "id": "bbb29da9",
   "metadata": {},
   "source": [
    "- **run all the tests** (the next cell has a shortcut for that),\n",
    "- **Save and Checkpoint** from the `File` menu,"
   ]
  },
  {
   "cell_type": "code",
   "execution_count": null,
   "id": "77e27d7f",
   "metadata": {},
   "outputs": [],
   "source": [
    "# For your convenience, you can run this cell to run all the tests at once!\n",
    "import os\n",
    "_ = [ok.grade(q[:-3]) for q in os.listdir(\"tests\") if q.startswith('q')]"
   ]
  }
 ],
 "metadata": {
  "jupytext": {
   "split_at_heading": true,
   "text_representation": {
    "extension": ".Rmd",
    "format_name": "rmarkdown",
    "format_version": "1.2",
    "jupytext_version": "1.10.3"
   }
  },
  "kernelspec": {
   "display_name": "Python 3 (ipykernel)",
   "language": "python",
   "name": "python3"
  }
 },
 "nbformat": 4,
 "nbformat_minor": 5
}
